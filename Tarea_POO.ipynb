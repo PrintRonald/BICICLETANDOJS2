{
  "nbformat": 4,
  "nbformat_minor": 0,
  "metadata": {
    "colab": {
      "provenance": [],
      "authorship_tag": "ABX9TyNuBKlyMGPrJ/LkTM/K1Jnt",
      "include_colab_link": true
    },
    "kernelspec": {
      "name": "python3",
      "display_name": "Python 3"
    },
    "language_info": {
      "name": "python"
    }
  },
  "cells": [
    {
      "cell_type": "markdown",
      "metadata": {
        "id": "view-in-github",
        "colab_type": "text"
      },
      "source": [
        "<a href=\"https://colab.research.google.com/github/PrintRonald/BICICLETANDOJS2/blob/main/Tarea_POO.ipynb\" target=\"_parent\"><img src=\"https://colab.research.google.com/assets/colab-badge.svg\" alt=\"Open In Colab\"/></a>"
      ]
    },
    {
      "cell_type": "code",
      "execution_count": 35,
      "metadata": {
        "id": "xH3tXyLcMgaH"
      },
      "outputs": [],
      "source": [
        "def daymon(number):\n",
        "    \"\"\"\n",
        "        Funcion para obetener un formato de dia y mes correcto \n",
        "        ej: 01, 02, ... , 09\n",
        "    \"\"\"\n",
        "    if number < 10:\n",
        "        return str(number).rjust(2,'0')\n",
        "    return number\n",
        "def year(number):\n",
        "    \"\"\"\n",
        "        Funcion para obetener un formato de año correcto \n",
        "        ej: 0001, 0010, ... , 0100, 1000\n",
        "    \"\"\"\n",
        "    if number <1000:\n",
        "        return str(number).rjust(4,'0')\n",
        "    return number\n",
        "def numberMonth(month):\n",
        "    monthDict =  {'January':1\n",
        "                  ,'February':2\n",
        "                  ,'March':3\n",
        "                  ,'April':4\n",
        "                  ,'May':5\n",
        "                  ,'June':6\n",
        "                  ,'July':7\n",
        "                  ,'August':8\n",
        "                  ,'September':9\n",
        "                  ,'October':10\n",
        "                  ,'November':11\n",
        "                  ,'December':12}\n",
        "    return monthDict[month] \n",
        "import calendar\n",
        "import copy\n",
        "import random \n",
        "from datetime import datetime, date, timedelta\n",
        "class Date():\n",
        "    def __init__(self, day = 2, month = 1, year = 1, isValid = True):\n",
        "        self.day = day \n",
        "        self.month = month \n",
        "        self.year = year\n",
        "        format = \"%d-%m-%Y\"\n",
        "        test_str = str(self.day) + '-' + str(self.month) + '-' + str(self.year)\n",
        "        try:\n",
        "            isValid = bool(datetime.strptime(test_str, format))\n",
        "        except ValueError:\n",
        "            isValid = False\n",
        "            print('¡¡¡La fecha introducida no es una fecha válida!!!')\n",
        "\n",
        "    def __str__(self):\n",
        "        return '{}/{}/{}'.format(daymon(self.day),daymon(self.month),year(self.year))\n",
        "    \n",
        "    def bisiesto(self):\n",
        "        if calendar.isleap(self.year) == True:   \n",
        "            return 'El año {} es bisiesto'.format(year(self.year))\n",
        "        return 'El año {} No es bisiesto'.format(year(self.year))\n",
        "    \n",
        "    def totalMonthDays(self):\n",
        "        if self.month in [4,6,9,11]:\n",
        "            d=30\n",
        "            return 'The month of {} has {} days.'.format(calendar.month_name[self.month], d)\n",
        "        \n",
        "        if self.month == 2:\n",
        "            if calendar.isleap(self.year) == True:\n",
        "                d=29\n",
        "                return 'The month of {} has {} days.'.format(calendar.month_name[self.month],d)\n",
        "            else:\n",
        "                d=28\n",
        "                return 'The month of {} has {} days.'.format(calendar.month_name[self.month],d)\n",
        "        else:\n",
        "            d=31\n",
        "            return 'The month of {} has {} days.'.format(calendar.month_name[self.month],d)\n",
        "    \n",
        "    def plusDay(self):\n",
        "        if self.month in [4,6,9,11]:\n",
        "            if self.day == 30:\n",
        "                self.day = 1\n",
        "                self.month += 1\n",
        "                return '{}/{}/{}'.format(daymon(self.day),daymon(self.month),year(self.year))\n",
        "            else:\n",
        "                self.day += 1\n",
        "                return '{}/{}/{}'.format(daymon(self.day),daymon(self.month),year(self.year))\n",
        "        if self.month == 2:\n",
        "            if calendar.isleap(self.year) == True:\n",
        "                if self.day == 29:\n",
        "                    self.day = 1\n",
        "                    self.month += 1\n",
        "                    return '{}/{}/{}'.format(daymon(self.day),daymon(self.month),year(self.year))\n",
        "                else:\n",
        "                    self.day += 1\n",
        "                    return '{}/{}/{}'.format(daymon(self.day),daymon(self.month),year(self.year))\n",
        "            else:\n",
        "                if self.day == 28:\n",
        "                    self.day = 1\n",
        "                    self.month += 1\n",
        "                    return '{}/{}/{}'.format(daymon(self.day),daymon(self.month),year(self.year))\n",
        "                else:\n",
        "                    self.day += 1\n",
        "                    return '{}/{}/{}'.format(daymon(self.day),daymon(self.month),year(self.year))\n",
        "        else:\n",
        "            if self.day == 31:\n",
        "                self.day = 1\n",
        "                if self.month == 12:\n",
        "                    self.month = 1\n",
        "                    self.year += 1\n",
        "                    return '{}/{}/{}'.format(daymon(self.day),daymon(self.month),year(self.year))\n",
        "                else:\n",
        "                    self.month += 1\n",
        "                    return '{}/{}/{}'.format(daymon(self.day),daymon(self.month),year(self.year))\n",
        "            else:\n",
        "                self.day += 1\n",
        "                return '{}/{}/{}'.format(daymon(self.day),daymon(self.month),year(self.year))\n",
        "        \n",
        "    def minusDay(self):\n",
        "        if self.month in [4,6,9,11]:\n",
        "            if self.day == 1:\n",
        "                self.month -= 1\n",
        "                self.day = 31\n",
        "                return '{}/{}/{}'.format(daymon(self.day),daymon(self.month),year(self.year))\n",
        "            else:\n",
        "                self.day -= 1\n",
        "                return '{}/{}/{}'.format(daymon(self.day),daymon(self.month),year(self.year))\n",
        "        if self.month == 3:\n",
        "            if self.day == 1:\n",
        "                if calendar.isleap(self.year) == True:\n",
        "                    self.day = 29\n",
        "                    self.month -= 1\n",
        "                    return '{}/{}/{}'.format(daymon(self.day),daymon(self.month),year(self.year))\n",
        "                else:\n",
        "                    self.day = 28\n",
        "                    self.month -= 1\n",
        "                    return '{}/{}/{}'.format(daymon(self.day),daymon(self.month),year(self.year))\n",
        "            else:\n",
        "                self.day -= 1\n",
        "                return '{}/{}/{}'.format(daymon(self.day),daymon(self.month),year(self.year))\n",
        "        if self.month == 2:\n",
        "            if self.day == 1:\n",
        "                self.month -= 1\n",
        "                self.day = 31\n",
        "                return '{}/{}/{}'.format(daymon(self.day),daymon(self.month),year(self.year))\n",
        "            else:\n",
        "                self.day -= 1\n",
        "                return '{}/{}/{}'.format(daymon(self.day),daymon(self.month),year(self.year))\n",
        "        else:\n",
        "            if self.day == 1:\n",
        "                if self.month == 1:\n",
        "                    self.month = 12\n",
        "                    self.day = 31\n",
        "                    self.year -= 1\n",
        "                    return '{}/{}/{}'.format(daymon(self.day),daymon(self.month),year(self.year))\n",
        "                else:\n",
        "                    self.day = 30\n",
        "                    self.month -= 1\n",
        "                    return '{}/{}/{}'.format(daymon(self.day),daymon(self.month),year(self.year))\n",
        "            else:\n",
        "                self.day -= 1\n",
        "                return '{}/{}/{}'.format(daymon(self.day),daymon(self.month),year(self.year))\n",
        "\n",
        "    @property\n",
        "    def monthName(self):\n",
        "        try:\n",
        "            month = calendar.month_name[self.month]\n",
        "            print('this month name is {}'.format(month))\n",
        "        except IndexError:\n",
        "            print('¡¡¡La fecha introducida no es una fecha válida!!!')\n",
        "    \n",
        "    @staticmethod\n",
        "    def areEqual(date1,date2):\n",
        "        date1 = date(date1.year,date1.month,date1.day)  \n",
        "        date2 = date(date2.year,date2.month,date2.day)\n",
        "        if date1 == date2:\n",
        "            return '{} es igual a {}'.format(date1,date2)\n",
        "        return '{} es diferente a {}'.format(date1,date2)\n",
        "    \n",
        "    @staticmethod\n",
        "    def isLater(date1,date2):#d1>d2\n",
        "        date1 = date(date1.year,date1.month,date1.day)  \n",
        "        date2 = date(date2.year,date2.month,date2.day)\n",
        "        if date1 >= date2:\n",
        "            return '{} Es posterior a {}'.format(date1,date2)\n",
        "        return '{} NO Es posterior a {}'.format(date1,date2)\n",
        "\n",
        "    @staticmethod\n",
        "    def isPrevious(date1,date2):#d1>d2\n",
        "        date1 = date(date1.year,date1.month,date1.day)  \n",
        "        date2 = date(date2.year,date2.month,date2.day)\n",
        "        if date1 <= date2:\n",
        "            return '{} Es anterior a {}'.format(date1,date2)\n",
        "        return '{} NO Es anterior a {}'.format(date1,date2)\n",
        "    @staticmethod\n",
        "    def difference(date1, date2):\n",
        "        date1 = date(date1.year,date1.month,date1.day)  \n",
        "        date2 = date(date2.year,date2.month,date2.day)\n",
        "        if date1 <= date2:\n",
        "            difdate = date2 - date1\n",
        "            return difdate\n",
        "        else:\n",
        "            difdate = date1 - date2\n",
        "            return difdate\n",
        "    @classmethod\n",
        "    def firstDayOfTheYear(cls,year):\n",
        "        firstDate = datetime(year,1,1)\n",
        "        return f'Starting day of year\",{year},\"is\",{firstDate.strftime(\"%A\")}'\n",
        "    @classmethod\n",
        "    def lastDayOfTheYear(cls,year):\n",
        "        lastDate = datetime(year,12,31)\n",
        "        return f'The last day of year\",{year},\"is\",{lastDate.strftime(\"%A\")}'\n",
        "    @classmethod\n",
        "    def copy(cls,date):\n",
        "        copydate = copy.copy(date)\n",
        "        return copydate\n",
        "    @classmethod\n",
        "    def randomDate(cls):\n",
        "        day, month, year = 1,random.randint(1,12),random.randint(1000,9999)\n",
        "        if month in [4,6,9,11]:\n",
        "            day = random.randint(1,30)\n",
        "            return cls(day, month, year)\n",
        "        if month == 2:\n",
        "            if calendar.isleap(year) == True:\n",
        "                day = random.randint(1,29)\n",
        "                return cls(day, month, year)\n",
        "            else:\n",
        "                day = random.randint(1,28)\n",
        "                return cls(day, month, year)    \n",
        "        else:\n",
        "            day = random.randint(1,31)\n",
        "            return cls(day, month, year)\n",
        "    @classmethod\n",
        "    def toDate(cls, date:str):\n",
        "        date = date.split()\n",
        "        ele = [ele.lstrip('0') for ele in date]\n",
        "        day = int(ele[0])\n",
        "        month = int(numberMonth(ele[1]))\n",
        "        year = int(ele[2])\n",
        "        return cls(day, month, year)"
      ]
    },
    {
      "cell_type": "code",
      "source": [
        "print(Date.toDate('17 April 2023'))"
      ],
      "metadata": {
        "colab": {
          "base_uri": "https://localhost:8080/"
        },
        "id": "5UP8mZtyFHpU",
        "outputId": "1165449f-3219-4cb8-de90-da5d4dbf1798"
      },
      "execution_count": 34,
      "outputs": [
        {
          "output_type": "stream",
          "name": "stdout",
          "text": [
            "17/04/2023\n"
          ]
        }
      ]
    },
    {
      "cell_type": "code",
      "source": [
        "print(Date.randomDate())\n"
      ],
      "metadata": {
        "colab": {
          "base_uri": "https://localhost:8080/"
        },
        "id": "YgtSTK2qOls_",
        "outputId": "7d575dd2-678a-460a-82e9-422d84b0f248"
      },
      "execution_count": 9,
      "outputs": [
        {
          "output_type": "stream",
          "name": "stdout",
          "text": [
            "02/12/6427\n"
          ]
        }
      ]
    },
    {
      "cell_type": "code",
      "source": [
        "date1 = Date(29,1,2023)\n",
        "date2 = Date(1,1,2023)\n",
        "print(Date.difference(date1,date2))"
      ],
      "metadata": {
        "colab": {
          "base_uri": "https://localhost:8080/"
        },
        "id": "ZR_RsIBdLk1F",
        "outputId": "0eefa8c9-d3d9-48db-abfa-55d76ce1184d"
      },
      "execution_count": 3,
      "outputs": [
        {
          "output_type": "stream",
          "name": "stdout",
          "text": [
            "28 days, 0:00:00\n"
          ]
        }
      ]
    },
    {
      "cell_type": "code",
      "source": [
        "date = Date(12,12,2012)\n",
        "dateCopy = Date.copy(date)\n",
        "print(dateCopy)\n",
        "date is dateCopy"
      ],
      "metadata": {
        "colab": {
          "base_uri": "https://localhost:8080/"
        },
        "id": "uOcsjZVPG8uj",
        "outputId": "eb7af858-4a1d-4885-f2d0-419523277a8f"
      },
      "execution_count": null,
      "outputs": [
        {
          "output_type": "stream",
          "name": "stdout",
          "text": [
            "12/12/2012\n"
          ]
        },
        {
          "output_type": "execute_result",
          "data": {
            "text/plain": [
              "False"
            ]
          },
          "metadata": {},
          "execution_count": 13
        }
      ]
    },
    {
      "cell_type": "code",
      "source": [
        "date = Date(12,12,2012)\n",
        "print(date)\n",
        "date.minusDay()"
      ],
      "metadata": {
        "colab": {
          "base_uri": "https://localhost:8080/",
          "height": 54
        },
        "id": "MTL30saSToaG",
        "outputId": "53997e6a-b284-4060-a25d-95b8fbe13a1e"
      },
      "execution_count": null,
      "outputs": [
        {
          "output_type": "stream",
          "name": "stdout",
          "text": [
            "12/12/2012\n"
          ]
        },
        {
          "output_type": "execute_result",
          "data": {
            "text/plain": [
              "'11/12/2012'"
            ],
            "application/vnd.google.colaboratory.intrinsic+json": {
              "type": "string"
            }
          },
          "metadata": {},
          "execution_count": 22
        }
      ]
    },
    {
      "cell_type": "code",
      "source": [
        "date = Date(12,12,2012)\n",
        "print(date)\n",
        "date.plusDay()"
      ],
      "metadata": {
        "colab": {
          "base_uri": "https://localhost:8080/",
          "height": 54
        },
        "id": "jZZEpvIc4vR2",
        "outputId": "db20fa47-1126-42b0-e644-d5f3b6b574ba"
      },
      "execution_count": null,
      "outputs": [
        {
          "output_type": "stream",
          "name": "stdout",
          "text": [
            "12/12/2012\n"
          ]
        },
        {
          "output_type": "execute_result",
          "data": {
            "text/plain": [
              "'13/12/2012'"
            ],
            "application/vnd.google.colaboratory.intrinsic+json": {
              "type": "string"
            }
          },
          "metadata": {},
          "execution_count": 21
        }
      ]
    },
    {
      "cell_type": "code",
      "source": [
        "firstday = Date.firstDayOfTheYear(2023)\n",
        "print(firstday)\n",
        "lastday = Date.lastDayOfTheYear(2023)\n",
        "print(lastday)"
      ],
      "metadata": {
        "colab": {
          "base_uri": "https://localhost:8080/"
        },
        "id": "9BD5Sl4uCLOW",
        "outputId": "454e2521-9714-4f4f-fdd5-dc4505158a15"
      },
      "execution_count": null,
      "outputs": [
        {
          "output_type": "stream",
          "name": "stdout",
          "text": [
            "Starting day of year\",2023,\"is\",Sunday\n",
            "The last day of year\",2023,\"is\",Sunday\n"
          ]
        }
      ]
    },
    {
      "cell_type": "code",
      "source": [
        "date1 = Date(17,4,2025)\n",
        "date2 = Date(17,4,2023)\n",
        "date3 = Date(17,4,2026)\n",
        "print(Date.isPrevious(date1,date2))\n",
        "print(Date.isPrevious(date1,date3))"
      ],
      "metadata": {
        "colab": {
          "base_uri": "https://localhost:8080/"
        },
        "id": "wD0T8CzXf-9-",
        "outputId": "7e113fcc-cee1-4d32-9f02-25be5158d19b"
      },
      "execution_count": null,
      "outputs": [
        {
          "output_type": "stream",
          "name": "stdout",
          "text": [
            "2025-04-17 NO Es anterior a 2023-04-17\n",
            "2025-04-17 Es anterior a 2026-04-17\n"
          ]
        }
      ]
    },
    {
      "cell_type": "code",
      "source": [
        "list = [1,2,3,4,5,6,7,8,9,10,11,12]\n",
        "for i in list:\n",
        "    date = Date(4,i,2024)\n",
        "    date.monthName"
      ],
      "metadata": {
        "colab": {
          "base_uri": "https://localhost:8080/"
        },
        "id": "kajNA0WNckwP",
        "outputId": "022c3a57-8d38-47ae-88d9-3328ec69a63b"
      },
      "execution_count": 10,
      "outputs": [
        {
          "output_type": "stream",
          "name": "stdout",
          "text": [
            "this month name is January\n",
            "this month name is February\n",
            "this month name is March\n",
            "this month name is April\n",
            "this month name is May\n",
            "this month name is June\n",
            "this month name is July\n",
            "this month name is August\n",
            "this month name is September\n",
            "this month name is October\n",
            "this month name is November\n",
            "this month name is December\n"
          ]
        }
      ]
    },
    {
      "cell_type": "code",
      "source": [
        "date = Date(4,13,2024)"
      ],
      "metadata": {
        "colab": {
          "base_uri": "https://localhost:8080/"
        },
        "id": "dTSV9h8Pbyav",
        "outputId": "2f5519f9-1819-4d87-c7fa-94987c654d92"
      },
      "execution_count": null,
      "outputs": [
        {
          "output_type": "stream",
          "name": "stdout",
          "text": [
            "¡¡¡La fecha introducida no es una fecha válida!!!\n"
          ]
        }
      ]
    },
    {
      "cell_type": "code",
      "source": [
        "date = Date(44,13,2024)"
      ],
      "metadata": {
        "colab": {
          "base_uri": "https://localhost:8080/"
        },
        "id": "wkvg7zmbb-em",
        "outputId": "b2c0f62d-9c3d-4639-aa8e-b33e2fca1720"
      },
      "execution_count": null,
      "outputs": [
        {
          "output_type": "stream",
          "name": "stdout",
          "text": [
            "¡¡¡La fecha introducida no es una fecha válida!!!\n"
          ]
        }
      ]
    },
    {
      "cell_type": "code",
      "source": [
        "date = Date(4,13,2024456)"
      ],
      "metadata": {
        "colab": {
          "base_uri": "https://localhost:8080/"
        },
        "id": "6c-oK5izcDJ-",
        "outputId": "dd7310f4-44c7-47a6-d01c-18287b7e422e"
      },
      "execution_count": null,
      "outputs": [
        {
          "output_type": "stream",
          "name": "stdout",
          "text": [
            "¡¡¡La fecha introducida no es una fecha válida!!!\n"
          ]
        }
      ]
    },
    {
      "cell_type": "code",
      "source": [
        "list = [1,2,3,4,5,6,7,8,9,10,11,12]\n",
        "for i in list:\n",
        "    date = Date(4,i,2023)\n",
        "    try:\n",
        "        print(date.totalMonthDays())\n",
        "    except:\n",
        "        print('Te equivocaste longi pollo')"
      ],
      "metadata": {
        "id": "NGo71u6aOES0",
        "colab": {
          "base_uri": "https://localhost:8080/"
        },
        "outputId": "86c1dc3d-67fd-41ca-a3a3-ee1d5232067a"
      },
      "execution_count": null,
      "outputs": [
        {
          "output_type": "stream",
          "name": "stdout",
          "text": [
            "The month of January has 31 days.\n",
            "The month of February has 28 days.\n",
            "The month of March has 31 days.\n",
            "The month of April has 30 days.\n",
            "The month of May has 31 days.\n",
            "The month of June has 30 days.\n",
            "The month of July has 31 days.\n",
            "The month of August has 31 days.\n",
            "The month of September has 30 days.\n",
            "The month of October has 31 days.\n",
            "The month of November has 30 days.\n",
            "The month of December has 31 days.\n"
          ]
        }
      ]
    },
    {
      "cell_type": "code",
      "source": [
        "edate.monthName"
      ],
      "metadata": {
        "colab": {
          "base_uri": "https://localhost:8080/"
        },
        "id": "ZrOpMIzOOKsp",
        "outputId": "3c01749b-5ce8-4e4e-ca46-9f087eacf246"
      },
      "execution_count": null,
      "outputs": [
        {
          "output_type": "stream",
          "name": "stdout",
          "text": [
            "Te equivocaste longi pollo\n"
          ]
        }
      ]
    },
    {
      "cell_type": "code",
      "source": [],
      "metadata": {
        "colab": {
          "base_uri": "https://localhost:8080/",
          "height": 36
        },
        "id": "4Yt_nGJUOMHO",
        "outputId": "20109567-f40e-4640-91c4-d2804172afd4"
      },
      "execution_count": null,
      "outputs": [
        {
          "output_type": "execute_result",
          "data": {
            "text/plain": [
              "'08/02/2024 Es un año bisiesto'"
            ],
            "application/vnd.google.colaboratory.intrinsic+json": {
              "type": "string"
            }
          },
          "metadata": {},
          "execution_count": 7
        }
      ]
    },
    {
      "cell_type": "code",
      "source": [],
      "metadata": {
        "id": "K1rI23fLRN62"
      },
      "execution_count": null,
      "outputs": []
    }
  ]
}